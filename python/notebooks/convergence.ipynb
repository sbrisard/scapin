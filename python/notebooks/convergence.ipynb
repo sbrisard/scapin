{
 "cells": [
  {
   "cell_type": "markdown",
   "metadata": {},
   "source": [
    "# Convergence of discrete Green operators"
   ]
  },
  {
   "cell_type": "code",
   "execution_count": null,
   "metadata": {},
   "outputs": [],
   "source": [
    "import numpy as np\n",
    "import matplotlib.pyplot as plt"
   ]
  },
  {
   "cell_type": "code",
   "execution_count": null,
   "metadata": {},
   "outputs": [],
   "source": [
    "import scapin\n",
    "import scapin.ms94"
   ]
  },
  {
   "cell_type": "code",
   "execution_count": null,
   "metadata": {},
   "outputs": [],
   "source": [
    "class ConvergenceTest:\n",
    "    def __init__(self):\n",
    "        self.dim = 2\n",
    "        self.num_refinements = 6\n",
    "        self.shape_fine = self.dim * (256,)\n",
    "        self.L = np.array(self.dim * (1.0,))\n",
    "        self.patch_ratio = self.dim * (0.125,)\n",
    "        μ = 1.0\n",
    "        ν = 0.3\n",
    "        self.hooke = scapin.hooke.HookeComplex128_2D(μ, ν)\n",
    "        self.τ_in = np.zeros((self.hooke.isize,), dtype=np.float64)\n",
    "        self.τ_in[-1] = 1.0\n",
    "        self.τ_out = np.zeros_like(self.τ_in)\n",
    "\n",
    "    def create_tau_hat(self, refinement):\n",
    "        shape = tuple(\n",
    "            n_ >> (self.num_refinements - 1 - refinement) for n_ in self.shape_fine\n",
    "        )\n",
    "        patch_size = tuple(int(r_ * n_) for r_, n_ in zip(self.patch_ratio, shape))\n",
    "\n",
    "        τ = np.empty(shape + (self.hooke.isize,), dtype=np.complex128)\n",
    "        τ[...] = self.τ_out\n",
    "        τ[tuple(slice(n_) for n_ in patch_size) + (...,)] = self.τ_in\n",
    "\n",
    "        return np.fft.fft2(τ, axes=range(self.dim))\n",
    "\n",
    "    def run(self, refinement):\n",
    "        τ_hat = self.create_tau_hat(refinement)\n",
    "        shape = τ_hat.shape[:-1]\n",
    "        # TODO Improve on how types are handled\n",
    "        MoulinecSuquet94 = scapin.ms94.MoulinecSuquet94HookeComplex128_2D\n",
    "        green_d = MoulinecSuquet94(self.hooke, shape, self.L)\n",
    "        η_hat = np.empty(shape + (green_d.gamma.osize,), dtype=τ_hat.dtype)\n",
    "        green_d.apply(τ_hat, η_hat)\n",
    "        return np.fft.ifft2(η_hat, axes=range(self.dim))"
   ]
  },
  {
   "cell_type": "code",
   "execution_count": null,
   "metadata": {},
   "outputs": [],
   "source": [
    "test = ConvergenceTest()\n",
    "results = []\n",
    "\n",
    "for r in range(test.num_refinements):\n",
    "    η = test.run(r)\n",
    "    results.append(η)\n",
    "    fig, ax = plt.subplots(1, η.shape[-1])\n",
    "    for i, ax_i in enumerate(ax):\n",
    "        ax_i.set_axis_off()\n",
    "        ax_i.imshow(η[..., i].real)"
   ]
  },
  {
   "cell_type": "code",
   "execution_count": null,
   "metadata": {},
   "outputs": [],
   "source": [
    "def auxiliary_shapes(shape_coarse, shape_fine):\n",
    "    aux_shape_coarse = []\n",
    "    aux_shape_fine = []\n",
    "\n",
    "    for i, (nc_i, nf_i) in enumerate(zip(shape_coarse, shape_fine)):\n",
    "        aux_shape_coarse.append(nc_i)\n",
    "        aux_shape_coarse.append(1)\n",
    "        aux_shape_fine.append(nc_i)\n",
    "        aux_shape_fine.append(nf_i // nc_i)\n",
    "\n",
    "    return tuple(aux_shape_coarse[:-1]), tuple(aux_shape_fine[:-1])"
   ]
  },
  {
   "cell_type": "code",
   "execution_count": null,
   "metadata": {},
   "outputs": [],
   "source": [
    "η_ref = results[-1]\n",
    "size = []\n",
    "err = []\n",
    "\n",
    "for η in results:\n",
    "    new_shape_coarse, new_shape_fine = auxiliary_shapes(η.shape, η_ref.shape)\n",
    "    η_zoom = np.empty_like(η_ref)\n",
    "    η_zoom.reshape(new_shape_fine)[...] = η.reshape(new_shape_coarse)\n",
    "    size.append(η.shape[0])\n",
    "    err.append(np.linalg.norm(η_zoom - η_ref))"
   ]
  },
  {
   "cell_type": "code",
   "execution_count": null,
   "metadata": {},
   "outputs": [],
   "source": [
    "size = np.asarray(size, dtype=np.float64)\n",
    "err = np.asarray(err, dtype=np.float64)\n",
    "plt.loglog(size, 100 * size ** -1)\n",
    "plt.loglog(size, err, \"o-\")"
   ]
  }
 ],
 "metadata": {
  "kernelspec": {
   "display_name": "Python 3",
   "language": "python",
   "name": "python3"
  },
  "language_info": {
   "codemirror_mode": {
    "name": "ipython",
    "version": 3
   },
   "file_extension": ".py",
   "mimetype": "text/x-python",
   "name": "python",
   "nbconvert_exporter": "python",
   "pygments_lexer": "ipython3",
   "version": "3.7.9"
  }
 },
 "nbformat": 4,
 "nbformat_minor": 4
}
