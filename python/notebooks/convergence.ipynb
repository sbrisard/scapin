{
 "cells": [
  {
   "cell_type": "markdown",
   "metadata": {},
   "source": [
    "# Convergence of discrete Green operators"
   ]
  },
  {
   "cell_type": "code",
   "execution_count": null,
   "metadata": {},
   "outputs": [],
   "source": [
    "import numpy as np\n",
    "import matplotlib.pyplot as plt"
   ]
  },
  {
   "cell_type": "code",
   "execution_count": null,
   "metadata": {},
   "outputs": [],
   "source": [
    "import pyscapin"
   ]
  },
  {
   "cell_type": "code",
   "execution_count": null,
   "metadata": {},
   "outputs": [],
   "source": [
    "dim = 2\n",
    "sym = (dim*(dim+1))//2"
   ]
  },
  {
   "cell_type": "code",
   "execution_count": null,
   "metadata": {},
   "outputs": [],
   "source": [
    "tau_in = np.array([0., 0., 1.])\n",
    "tau_out = np.array([0., 0., 0.])"
   ]
  },
  {
   "cell_type": "code",
   "execution_count": null,
   "metadata": {},
   "outputs": [],
   "source": [
    "patch_ratio= dim*(0.125,)\n",
    "patch_ratio"
   ]
  },
  {
   "cell_type": "markdown",
   "metadata": {},
   "source": [
    "Compute DFT of input array"
   ]
  },
  {
   "cell_type": "code",
   "execution_count": null,
   "metadata": {},
   "outputs": [],
   "source": [
    "grid_size = dim*(16,)\n",
    "grid_size"
   ]
  },
  {
   "cell_type": "code",
   "execution_count": null,
   "metadata": {},
   "outputs": [],
   "source": [
    "patch_size = tuple(int(r_ * n_) for r_, n_ in zip(patch_ratio, grid_size))\n",
    "patch_size"
   ]
  },
  {
   "cell_type": "code",
   "execution_count": null,
   "metadata": {},
   "outputs": [],
   "source": [
    "tau = np.empty(grid_size+(sym,), dtype=np.float64)\n",
    "tau[...] = tau_out\n",
    "roi = tuple(slice(n_i) for n_i in patch_size)+(...,)\n",
    "tau[roi] = tau_in"
   ]
  },
  {
   "cell_type": "code",
   "execution_count": null,
   "metadata": {},
   "outputs": [],
   "source": [
    "def dft_of_patch(n, m, val_in, val_out):\n",
    "    factors = []\n",
    "    for n_, m_ in zip(n, m):\n",
    "        i = np.arange(n_)\n",
    "        r = np.empty((n_, ), dtype=np.float64)\n",
    "        r[1:] = np.sin(np.pi*m_*i[1:]/n_)/np.sin(np.pi*i[1:]/n_)\n",
    "        r[0] = m_\n",
    "        phi = np.pi*(m_-1)/n_*i\n",
    "        factors.append(r*(np.cos(phi)-1j*np.sin(phi)))\n",
    "    factors = np.meshgrid(*factors, indexing=\"xy\", sparse=True)\n",
    "\n",
    "    out = val_in.astype(np.complex128)\n",
    "    for s in factors:\n",
    "        # Do not use the *= operator, since the adress of `out` effectively\n",
    "        # changes\n",
    "        out = s[..., None] * out\n",
    "    \n",
    "    return out"
   ]
  },
  {
   "cell_type": "code",
   "execution_count": null,
   "metadata": {},
   "outputs": [],
   "source": [
    "tau_hat = dft_of_patch(grid_size, patch_size, tau_in, tau_out)"
   ]
  },
  {
   "cell_type": "code",
   "execution_count": null,
   "metadata": {},
   "outputs": [],
   "source": [
    "axes = tuple(range(dim))\n",
    "tau_hat_exp = np.fft.fft2(tau, axes=axes)\n",
    "np.linalg.norm(tau_hat-tau_hat_exp)"
   ]
  },
  {
   "cell_type": "code",
   "execution_count": null,
   "metadata": {},
   "outputs": [],
   "source": []
  }
 ],
 "metadata": {
  "kernelspec": {
   "display_name": "Python 3",
   "language": "python",
   "name": "python3"
  },
  "language_info": {
   "codemirror_mode": {
    "name": "ipython",
    "version": 3
   },
   "file_extension": ".py",
   "mimetype": "text/x-python",
   "name": "python",
   "nbconvert_exporter": "python",
   "pygments_lexer": "ipython3",
   "version": "3.7.8"
  }
 },
 "nbformat": 4,
 "nbformat_minor": 4
}
